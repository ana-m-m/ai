{
 "cells": [
  {
   "cell_type": "markdown",
   "source": [
    "# PROJECT  1"
   ],
   "metadata": {
    "collapsed": false
   }
  },
  {
   "cell_type": "markdown",
   "source": [
    "## a) Descriptive analysis of the database"
   ],
   "metadata": {
    "collapsed": false
   }
  },
  {
   "cell_type": "code",
   "execution_count": 11,
   "outputs": [
    {
     "data": {
      "text/plain": "    Recipientgender Stemcellsource   Donorage Donorage35  IIIV Gendermatch  \\\n0              b'1'           b'1'  22.830137       b'0'  b'1'        b'0'   \n1              b'1'           b'0'  23.342466       b'0'  b'1'        b'0'   \n2              b'1'           b'0'  26.394521       b'0'  b'1'        b'0'   \n3              b'0'           b'0'  39.684932       b'1'  b'1'        b'0'   \n4              b'0'           b'1'  33.358904       b'0'  b'0'        b'0'   \n..              ...            ...        ...        ...   ...         ...   \n182            b'1'           b'1'  37.575342       b'1'  b'1'        b'0'   \n183            b'0'           b'1'  22.895890       b'0'  b'0'        b'0'   \n184            b'0'           b'1'  27.347945       b'0'  b'1'        b'0'   \n185            b'1'           b'1'  27.780822       b'0'  b'1'        b'0'   \n186            b'1'           b'1'  55.553425       b'1'  b'1'        b'0'   \n\n    DonorABO RecipientABO RecipientRh ABOmatch  ... extcGvHD CD34kgx10d6  \\\n0       b'1'         b'1'        b'1'     b'0'  ...     b'1'        7.20   \n1      b'-1'        b'-1'        b'1'     b'0'  ...     b'1'        4.50   \n2      b'-1'        b'-1'        b'1'     b'0'  ...     b'1'        7.94   \n3       b'1'         b'2'        b'1'     b'1'  ...     b'?'        4.25   \n4       b'1'         b'2'        b'0'     b'1'  ...     b'1'       51.85   \n..       ...          ...         ...      ...  ...      ...         ...   \n182     b'1'         b'1'        b'0'     b'0'  ...     b'1'       11.08   \n183     b'1'         b'0'        b'1'     b'1'  ...     b'1'        4.64   \n184     b'1'        b'-1'        b'1'     b'1'  ...     b'1'        7.73   \n185     b'1'         b'0'        b'1'     b'1'  ...     b'0'       15.41   \n186     b'1'         b'2'        b'1'     b'1'  ...     b'1'        9.91   \n\n      CD3dCD34 CD3dkgx10d8 Rbodymass ANCrecovery PLTrecovery  \\\n0     1.338760        5.38      35.0        19.0        51.0   \n1    11.078295        0.41      20.6        16.0        37.0   \n2    19.013230        0.42      23.4        23.0        20.0   \n3    29.481647        0.14      50.0        23.0        29.0   \n4     3.972255       13.05       9.0        14.0        14.0   \n..         ...         ...       ...         ...         ...   \n182   2.522750        4.39      44.0        15.0        22.0   \n183   1.038858        4.47      44.5        12.0        30.0   \n184   1.635559        4.73      33.0        16.0        16.0   \n185   8.077770        1.91      24.0        13.0        14.0   \n186   0.948135       10.45      37.0        18.0        20.0   \n\n    time_to_aGvHD_III_IV survival_time survival_status  \n0                   32.0         999.0             0.0  \n1              1000000.0         163.0             1.0  \n2              1000000.0         435.0             1.0  \n3                   19.0          53.0             1.0  \n4              1000000.0        2043.0             0.0  \n..                   ...           ...             ...  \n182                 16.0         385.0             1.0  \n183            1000000.0         634.0             1.0  \n184            1000000.0        1895.0             0.0  \n185                 54.0         382.0             1.0  \n186            1000000.0        1109.0             0.0  \n\n[187 rows x 37 columns]",
      "text/html": "<div>\n<style scoped>\n    .dataframe tbody tr th:only-of-type {\n        vertical-align: middle;\n    }\n\n    .dataframe tbody tr th {\n        vertical-align: top;\n    }\n\n    .dataframe thead th {\n        text-align: right;\n    }\n</style>\n<table border=\"1\" class=\"dataframe\">\n  <thead>\n    <tr style=\"text-align: right;\">\n      <th></th>\n      <th>Recipientgender</th>\n      <th>Stemcellsource</th>\n      <th>Donorage</th>\n      <th>Donorage35</th>\n      <th>IIIV</th>\n      <th>Gendermatch</th>\n      <th>DonorABO</th>\n      <th>RecipientABO</th>\n      <th>RecipientRh</th>\n      <th>ABOmatch</th>\n      <th>...</th>\n      <th>extcGvHD</th>\n      <th>CD34kgx10d6</th>\n      <th>CD3dCD34</th>\n      <th>CD3dkgx10d8</th>\n      <th>Rbodymass</th>\n      <th>ANCrecovery</th>\n      <th>PLTrecovery</th>\n      <th>time_to_aGvHD_III_IV</th>\n      <th>survival_time</th>\n      <th>survival_status</th>\n    </tr>\n  </thead>\n  <tbody>\n    <tr>\n      <th>0</th>\n      <td>b'1'</td>\n      <td>b'1'</td>\n      <td>22.830137</td>\n      <td>b'0'</td>\n      <td>b'1'</td>\n      <td>b'0'</td>\n      <td>b'1'</td>\n      <td>b'1'</td>\n      <td>b'1'</td>\n      <td>b'0'</td>\n      <td>...</td>\n      <td>b'1'</td>\n      <td>7.20</td>\n      <td>1.338760</td>\n      <td>5.38</td>\n      <td>35.0</td>\n      <td>19.0</td>\n      <td>51.0</td>\n      <td>32.0</td>\n      <td>999.0</td>\n      <td>0.0</td>\n    </tr>\n    <tr>\n      <th>1</th>\n      <td>b'1'</td>\n      <td>b'0'</td>\n      <td>23.342466</td>\n      <td>b'0'</td>\n      <td>b'1'</td>\n      <td>b'0'</td>\n      <td>b'-1'</td>\n      <td>b'-1'</td>\n      <td>b'1'</td>\n      <td>b'0'</td>\n      <td>...</td>\n      <td>b'1'</td>\n      <td>4.50</td>\n      <td>11.078295</td>\n      <td>0.41</td>\n      <td>20.6</td>\n      <td>16.0</td>\n      <td>37.0</td>\n      <td>1000000.0</td>\n      <td>163.0</td>\n      <td>1.0</td>\n    </tr>\n    <tr>\n      <th>2</th>\n      <td>b'1'</td>\n      <td>b'0'</td>\n      <td>26.394521</td>\n      <td>b'0'</td>\n      <td>b'1'</td>\n      <td>b'0'</td>\n      <td>b'-1'</td>\n      <td>b'-1'</td>\n      <td>b'1'</td>\n      <td>b'0'</td>\n      <td>...</td>\n      <td>b'1'</td>\n      <td>7.94</td>\n      <td>19.013230</td>\n      <td>0.42</td>\n      <td>23.4</td>\n      <td>23.0</td>\n      <td>20.0</td>\n      <td>1000000.0</td>\n      <td>435.0</td>\n      <td>1.0</td>\n    </tr>\n    <tr>\n      <th>3</th>\n      <td>b'0'</td>\n      <td>b'0'</td>\n      <td>39.684932</td>\n      <td>b'1'</td>\n      <td>b'1'</td>\n      <td>b'0'</td>\n      <td>b'1'</td>\n      <td>b'2'</td>\n      <td>b'1'</td>\n      <td>b'1'</td>\n      <td>...</td>\n      <td>b'?'</td>\n      <td>4.25</td>\n      <td>29.481647</td>\n      <td>0.14</td>\n      <td>50.0</td>\n      <td>23.0</td>\n      <td>29.0</td>\n      <td>19.0</td>\n      <td>53.0</td>\n      <td>1.0</td>\n    </tr>\n    <tr>\n      <th>4</th>\n      <td>b'0'</td>\n      <td>b'1'</td>\n      <td>33.358904</td>\n      <td>b'0'</td>\n      <td>b'0'</td>\n      <td>b'0'</td>\n      <td>b'1'</td>\n      <td>b'2'</td>\n      <td>b'0'</td>\n      <td>b'1'</td>\n      <td>...</td>\n      <td>b'1'</td>\n      <td>51.85</td>\n      <td>3.972255</td>\n      <td>13.05</td>\n      <td>9.0</td>\n      <td>14.0</td>\n      <td>14.0</td>\n      <td>1000000.0</td>\n      <td>2043.0</td>\n      <td>0.0</td>\n    </tr>\n    <tr>\n      <th>...</th>\n      <td>...</td>\n      <td>...</td>\n      <td>...</td>\n      <td>...</td>\n      <td>...</td>\n      <td>...</td>\n      <td>...</td>\n      <td>...</td>\n      <td>...</td>\n      <td>...</td>\n      <td>...</td>\n      <td>...</td>\n      <td>...</td>\n      <td>...</td>\n      <td>...</td>\n      <td>...</td>\n      <td>...</td>\n      <td>...</td>\n      <td>...</td>\n      <td>...</td>\n      <td>...</td>\n    </tr>\n    <tr>\n      <th>182</th>\n      <td>b'1'</td>\n      <td>b'1'</td>\n      <td>37.575342</td>\n      <td>b'1'</td>\n      <td>b'1'</td>\n      <td>b'0'</td>\n      <td>b'1'</td>\n      <td>b'1'</td>\n      <td>b'0'</td>\n      <td>b'0'</td>\n      <td>...</td>\n      <td>b'1'</td>\n      <td>11.08</td>\n      <td>2.522750</td>\n      <td>4.39</td>\n      <td>44.0</td>\n      <td>15.0</td>\n      <td>22.0</td>\n      <td>16.0</td>\n      <td>385.0</td>\n      <td>1.0</td>\n    </tr>\n    <tr>\n      <th>183</th>\n      <td>b'0'</td>\n      <td>b'1'</td>\n      <td>22.895890</td>\n      <td>b'0'</td>\n      <td>b'0'</td>\n      <td>b'0'</td>\n      <td>b'1'</td>\n      <td>b'0'</td>\n      <td>b'1'</td>\n      <td>b'1'</td>\n      <td>...</td>\n      <td>b'1'</td>\n      <td>4.64</td>\n      <td>1.038858</td>\n      <td>4.47</td>\n      <td>44.5</td>\n      <td>12.0</td>\n      <td>30.0</td>\n      <td>1000000.0</td>\n      <td>634.0</td>\n      <td>1.0</td>\n    </tr>\n    <tr>\n      <th>184</th>\n      <td>b'0'</td>\n      <td>b'1'</td>\n      <td>27.347945</td>\n      <td>b'0'</td>\n      <td>b'1'</td>\n      <td>b'0'</td>\n      <td>b'1'</td>\n      <td>b'-1'</td>\n      <td>b'1'</td>\n      <td>b'1'</td>\n      <td>...</td>\n      <td>b'1'</td>\n      <td>7.73</td>\n      <td>1.635559</td>\n      <td>4.73</td>\n      <td>33.0</td>\n      <td>16.0</td>\n      <td>16.0</td>\n      <td>1000000.0</td>\n      <td>1895.0</td>\n      <td>0.0</td>\n    </tr>\n    <tr>\n      <th>185</th>\n      <td>b'1'</td>\n      <td>b'1'</td>\n      <td>27.780822</td>\n      <td>b'0'</td>\n      <td>b'1'</td>\n      <td>b'0'</td>\n      <td>b'1'</td>\n      <td>b'0'</td>\n      <td>b'1'</td>\n      <td>b'1'</td>\n      <td>...</td>\n      <td>b'0'</td>\n      <td>15.41</td>\n      <td>8.077770</td>\n      <td>1.91</td>\n      <td>24.0</td>\n      <td>13.0</td>\n      <td>14.0</td>\n      <td>54.0</td>\n      <td>382.0</td>\n      <td>1.0</td>\n    </tr>\n    <tr>\n      <th>186</th>\n      <td>b'1'</td>\n      <td>b'1'</td>\n      <td>55.553425</td>\n      <td>b'1'</td>\n      <td>b'1'</td>\n      <td>b'0'</td>\n      <td>b'1'</td>\n      <td>b'2'</td>\n      <td>b'1'</td>\n      <td>b'1'</td>\n      <td>...</td>\n      <td>b'1'</td>\n      <td>9.91</td>\n      <td>0.948135</td>\n      <td>10.45</td>\n      <td>37.0</td>\n      <td>18.0</td>\n      <td>20.0</td>\n      <td>1000000.0</td>\n      <td>1109.0</td>\n      <td>0.0</td>\n    </tr>\n  </tbody>\n</table>\n<p>187 rows × 37 columns</p>\n</div>"
     },
     "execution_count": 11,
     "metadata": {},
     "output_type": "execute_result"
    }
   ],
   "source": [
    "from scipy.io import arff\n",
    "import pandas as pd\n",
    "\n",
    "dataframe, meta = arff.loadarff('bone-marrow.arff')\n",
    "\n",
    "df= pd.DataFrame(dataframe)\n",
    "def bytes_to_int(byte_value):\n",
    "    return byte_value.decode('utf-8')\n",
    "\n",
    "# Apply the conversion function to all columns in df\n",
    "#list_decode = ['Recipientgender', 'Stemcellsource', 'Donorage35', 'IIIV', 'Gendermatch', 'DonorABO', 'RecipientABO', 'RecipientRh', 'ABOmatch', CMVstatus, DonorCMV, RecipientCMV, Disease]\n",
    "df['Disease'] = df['Disease'].apply(bytes_to_int)\n",
    "\n",
    "# Now, all columns in df contain integers\n",
    "\n",
    "df"
   ],
   "metadata": {
    "collapsed": false
   }
  },
  {
   "cell_type": "markdown",
   "source": [
    "## b) Separate your data into training and test sets"
   ],
   "metadata": {
    "collapsed": false
   }
  },
  {
   "cell_type": "markdown",
   "source": [
    "## c) Visualize your data"
   ],
   "metadata": {
    "collapsed": false
   }
  },
  {
   "cell_type": "markdown",
   "source": [
    "## d) Preprocess your data"
   ],
   "metadata": {
    "collapsed": false
   }
  },
  {
   "cell_type": "markdown",
   "source": [
    "## e) Normalize your dataset"
   ],
   "metadata": {
    "collapsed": false
   }
  },
  {
   "cell_type": "code",
   "execution_count": null,
   "outputs": [],
   "source": [],
   "metadata": {
    "collapsed": false
   }
  }
 ],
 "metadata": {
  "kernelspec": {
   "display_name": "Python 3 (ipykernel)",
   "language": "python",
   "name": "python3"
  },
  "language_info": {
   "codemirror_mode": {
    "name": "ipython",
    "version": 3
   },
   "file_extension": ".py",
   "mimetype": "text/x-python",
   "name": "python",
   "nbconvert_exporter": "python",
   "pygments_lexer": "ipython3",
   "version": "3.8.5"
  }
 },
 "nbformat": 4,
 "nbformat_minor": 5
}
