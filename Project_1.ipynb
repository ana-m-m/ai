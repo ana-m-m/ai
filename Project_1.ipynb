{
 "cells": [
  {
   "cell_type": "markdown",
   "source": [
    "# PROJECT  1"
   ],
   "metadata": {
    "collapsed": false
   }
  },
  {
   "cell_type": "markdown",
   "source": [
    "## a) Descriptive analysis of the database"
   ],
   "metadata": {
    "collapsed": false
   }
  },
  {
   "cell_type": "code",
   "execution_count": 3,
   "outputs": [
    {
     "data": {
      "text/plain": "  Recipientgender Stemcellsource   Donorage Donorage35  IIIV Gendermatch  \\\n0            b'1'           b'1'  22.830137       b'0'  b'1'        b'0'   \n1            b'1'           b'0'  23.342466       b'0'  b'1'        b'0'   \n2            b'1'           b'0'  26.394521       b'0'  b'1'        b'0'   \n3            b'0'           b'0'  39.684932       b'1'  b'1'        b'0'   \n4            b'0'           b'1'  33.358904       b'0'  b'0'        b'0'   \n\n  DonorABO RecipientABO RecipientRh ABOmatch  ... extcGvHD CD34kgx10d6  \\\n0     b'1'         b'1'        b'1'     b'0'  ...     b'1'        7.20   \n1    b'-1'        b'-1'        b'1'     b'0'  ...     b'1'        4.50   \n2    b'-1'        b'-1'        b'1'     b'0'  ...     b'1'        7.94   \n3     b'1'         b'2'        b'1'     b'1'  ...     b'?'        4.25   \n4     b'1'         b'2'        b'0'     b'1'  ...     b'1'       51.85   \n\n    CD3dCD34 CD3dkgx10d8 Rbodymass ANCrecovery PLTrecovery  \\\n0   1.338760        5.38      35.0        19.0        51.0   \n1  11.078295        0.41      20.6        16.0        37.0   \n2  19.013230        0.42      23.4        23.0        20.0   \n3  29.481647        0.14      50.0        23.0        29.0   \n4   3.972255       13.05       9.0        14.0        14.0   \n\n  time_to_aGvHD_III_IV survival_time survival_status  \n0                 32.0         999.0             0.0  \n1            1000000.0         163.0             1.0  \n2            1000000.0         435.0             1.0  \n3                 19.0          53.0             1.0  \n4            1000000.0        2043.0             0.0  \n\n[5 rows x 37 columns]",
      "text/html": "<div>\n<style scoped>\n    .dataframe tbody tr th:only-of-type {\n        vertical-align: middle;\n    }\n\n    .dataframe tbody tr th {\n        vertical-align: top;\n    }\n\n    .dataframe thead th {\n        text-align: right;\n    }\n</style>\n<table border=\"1\" class=\"dataframe\">\n  <thead>\n    <tr style=\"text-align: right;\">\n      <th></th>\n      <th>Recipientgender</th>\n      <th>Stemcellsource</th>\n      <th>Donorage</th>\n      <th>Donorage35</th>\n      <th>IIIV</th>\n      <th>Gendermatch</th>\n      <th>DonorABO</th>\n      <th>RecipientABO</th>\n      <th>RecipientRh</th>\n      <th>ABOmatch</th>\n      <th>...</th>\n      <th>extcGvHD</th>\n      <th>CD34kgx10d6</th>\n      <th>CD3dCD34</th>\n      <th>CD3dkgx10d8</th>\n      <th>Rbodymass</th>\n      <th>ANCrecovery</th>\n      <th>PLTrecovery</th>\n      <th>time_to_aGvHD_III_IV</th>\n      <th>survival_time</th>\n      <th>survival_status</th>\n    </tr>\n  </thead>\n  <tbody>\n    <tr>\n      <th>0</th>\n      <td>b'1'</td>\n      <td>b'1'</td>\n      <td>22.830137</td>\n      <td>b'0'</td>\n      <td>b'1'</td>\n      <td>b'0'</td>\n      <td>b'1'</td>\n      <td>b'1'</td>\n      <td>b'1'</td>\n      <td>b'0'</td>\n      <td>...</td>\n      <td>b'1'</td>\n      <td>7.20</td>\n      <td>1.338760</td>\n      <td>5.38</td>\n      <td>35.0</td>\n      <td>19.0</td>\n      <td>51.0</td>\n      <td>32.0</td>\n      <td>999.0</td>\n      <td>0.0</td>\n    </tr>\n    <tr>\n      <th>1</th>\n      <td>b'1'</td>\n      <td>b'0'</td>\n      <td>23.342466</td>\n      <td>b'0'</td>\n      <td>b'1'</td>\n      <td>b'0'</td>\n      <td>b'-1'</td>\n      <td>b'-1'</td>\n      <td>b'1'</td>\n      <td>b'0'</td>\n      <td>...</td>\n      <td>b'1'</td>\n      <td>4.50</td>\n      <td>11.078295</td>\n      <td>0.41</td>\n      <td>20.6</td>\n      <td>16.0</td>\n      <td>37.0</td>\n      <td>1000000.0</td>\n      <td>163.0</td>\n      <td>1.0</td>\n    </tr>\n    <tr>\n      <th>2</th>\n      <td>b'1'</td>\n      <td>b'0'</td>\n      <td>26.394521</td>\n      <td>b'0'</td>\n      <td>b'1'</td>\n      <td>b'0'</td>\n      <td>b'-1'</td>\n      <td>b'-1'</td>\n      <td>b'1'</td>\n      <td>b'0'</td>\n      <td>...</td>\n      <td>b'1'</td>\n      <td>7.94</td>\n      <td>19.013230</td>\n      <td>0.42</td>\n      <td>23.4</td>\n      <td>23.0</td>\n      <td>20.0</td>\n      <td>1000000.0</td>\n      <td>435.0</td>\n      <td>1.0</td>\n    </tr>\n    <tr>\n      <th>3</th>\n      <td>b'0'</td>\n      <td>b'0'</td>\n      <td>39.684932</td>\n      <td>b'1'</td>\n      <td>b'1'</td>\n      <td>b'0'</td>\n      <td>b'1'</td>\n      <td>b'2'</td>\n      <td>b'1'</td>\n      <td>b'1'</td>\n      <td>...</td>\n      <td>b'?'</td>\n      <td>4.25</td>\n      <td>29.481647</td>\n      <td>0.14</td>\n      <td>50.0</td>\n      <td>23.0</td>\n      <td>29.0</td>\n      <td>19.0</td>\n      <td>53.0</td>\n      <td>1.0</td>\n    </tr>\n    <tr>\n      <th>4</th>\n      <td>b'0'</td>\n      <td>b'1'</td>\n      <td>33.358904</td>\n      <td>b'0'</td>\n      <td>b'0'</td>\n      <td>b'0'</td>\n      <td>b'1'</td>\n      <td>b'2'</td>\n      <td>b'0'</td>\n      <td>b'1'</td>\n      <td>...</td>\n      <td>b'1'</td>\n      <td>51.85</td>\n      <td>3.972255</td>\n      <td>13.05</td>\n      <td>9.0</td>\n      <td>14.0</td>\n      <td>14.0</td>\n      <td>1000000.0</td>\n      <td>2043.0</td>\n      <td>0.0</td>\n    </tr>\n  </tbody>\n</table>\n<p>5 rows × 37 columns</p>\n</div>"
     },
     "execution_count": 3,
     "metadata": {},
     "output_type": "execute_result"
    }
   ],
   "source": [
    "from scipy.io import arff\n",
    "import pandas as pd\n",
    "\n",
    "dataframe, meta = arff.loadarff('bone-marrow.arff')\n",
    "\n",
    "dataframe = pd.DataFrame(dataframe)\n",
    "\n",
    "dataframe.head()"
   ],
   "metadata": {
    "collapsed": false
   }
  },
  {
   "cell_type": "markdown",
   "source": [
    "## b) Separate your data into training and test sets"
   ],
   "metadata": {
    "collapsed": false
   }
  },
  {
   "cell_type": "markdown",
   "source": [
    "## c) Visualize your data"
   ],
   "metadata": {
    "collapsed": false
   }
  },
  {
   "cell_type": "markdown",
   "source": [
    "## d) Preprocess your data"
   ],
   "metadata": {
    "collapsed": false
   }
  },
  {
   "cell_type": "markdown",
   "source": [
    "## e) Normalize your dataset"
   ],
   "metadata": {
    "collapsed": false
   }
  },
  {
   "cell_type": "code",
   "execution_count": null,
   "outputs": [],
   "source": [],
   "metadata": {
    "collapsed": false
   }
  }
 ],
 "metadata": {
  "kernelspec": {
   "display_name": "Python 3 (ipykernel)",
   "language": "python",
   "name": "python3"
  },
  "language_info": {
   "codemirror_mode": {
    "name": "ipython",
    "version": 3
   },
   "file_extension": ".py",
   "mimetype": "text/x-python",
   "name": "python",
   "nbconvert_exporter": "python",
   "pygments_lexer": "ipython3",
   "version": "3.8.5"
  }
 },
 "nbformat": 4,
 "nbformat_minor": 5
}
